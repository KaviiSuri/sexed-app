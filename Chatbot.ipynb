{
  "nbformat": 4,
  "nbformat_minor": 0,
  "metadata": {
    "colab": {
      "name": "Chatbot",
      "provenance": []
    },
    "kernelspec": {
      "name": "python3",
      "display_name": "Python 3"
    }
  },
  "cells": [
    {
      "cell_type": "markdown",
      "metadata": {
        "id": "5TXB5nJ133J_"
      },
      "source": [
        ""
      ]
    },
    {
      "cell_type": "code",
      "metadata": {
        "id": "Lw1RZVv813DX"
      },
      "source": [
        "import pandas as pd\n",
        "df=pd.read_excel('SEXED.xlsx',header=None,index_col=None,)"
      ],
      "execution_count": null,
      "outputs": []
    },
    {
      "cell_type": "code",
      "metadata": {
        "id": "I8TYPu06qM-G"
      },
      "source": [
        "for i in range(81):\n",
        "  print(\"\\'\",data.loc[i,1],\"\\',\\'\",data.loc[i,2],\"\\',\")\n",
        "  "
      ],
      "execution_count": null,
      "outputs": []
    },
    {
      "cell_type": "code",
      "metadata": {
        "id": "fWAqHS14qmMn"
      },
      "source": [
        ""
      ],
      "execution_count": null,
      "outputs": []
    },
    {
      "cell_type": "code",
      "metadata": {
        "id": "25ZEzRaZsJtM",
        "outputId": "46c4227f-7c70-4b12-ecaa-41e200a0f2fa",
        "colab": {
          "base_uri": "https://localhost:8080/",
          "height": 182
        }
      },
      "source": [
        "!pip install chatterbot\n",
        "from chatterbot import ChatBot\n",
        "from chatterbot.trainers import ListTrainer\n",
        "\n",
        "# Create a new chat bot named Charlie\n",
        "chatbot = ChatBot('Charlie')\n",
        "\n",
        "trainer = ListTrainer(chatbot)\n",
        "\n",
        "trainer.train([\n",
        "    'Hi, can I help you?',\n",
        "    'Sure, I would like to book a flight to Iceland.',\n",
        "    'Your flight has been booked.',\n",
        "    ' How does pregnancy happen? ',' When sperm meets with an egg, it can cause pregnancy. This usually happens after penis-in-vagina sex, when a penis ejaculates (cums) into a vagina. Pregnancy can also happen if semen gets on a vulva (like if you touch a vulva with wet semen on your fingers). ',\n",
        "' Can you get pregnant if your partner pulls out? ',' It’s rare, but it can happen. Sperm mostly lives in semen (what comes out of the penis during ejaculation), but a little sperm can come out in pre-cum (the clear fluid that comes out of the penis when it’s hard). If pre-cum gets in the vagina, pregnancy is unlikely but possible. ',\n",
        "' Can I get pregnant from masturbating? ',' No worries, masturbation doesn’t cause pregnancy (whew!). The only way pregnancy can happen is if semen (cum) from a penis gets on a vulva or into a vagina. ',\n",
        "' When are you no longer a virgin? ',' Most people say they have lost their virginity after the first time they have sex. But sex means different things to different people, so it is up to you to decide what virginity means to you. ',\n",
        "' I think I have an STD. What do I do? ',' Take a breath — STDs are super common, and many can be treated with medicine. The only way to know you have an STD for sure is to get tested. You can get tested at Planned Parenthood health centers and other doctors’ offices. It’s usually easy, painless, and can even be free. ',\n",
        "' How do I know if I have an STD? ',' You can only get STDs from sexual contact with another person (like oral, anal, or vaginal sex). Most of the time, STDs don’t show symptoms, so the only way to know for sure if you have an STD is to get tested. STD testing is usually easy, painless, and sometimes even free. ',\n",
        "' How do I know if I have a yeast infection? ',' Yeast infections are no fun. Symptoms can include: thick, white, clumpy discharge; creamy, white coating around your vagina; itching, burning, or redness in or around your vagina. If you think you have a yeast infection, call your doctor or a PP health center. ',\n",
        "' What do I do if it hurts when I have sex? ',' As a robot, I’m not great at diagnosing stuff, but I know that sex should feel good for everyone involved. The best way to figure out why you’re having pain is to talk with a human doctor or nurse. And remember: if sex hurts, you can stop! ',\n",
        "' What do I do if it burns when I pee? ',' Ouch! Pain when peeing can have different causes, like a UTI or STD. The only way to know for sure what’s going on is to see a nurse or doctor, like the ones at your local Planned Parenthood. ',\n",
        "' What’s the right age to have sex for the first time? ',' It’s all about picking the right age for you, which might be totally different than the right age for other people. It may seem like everybody you know is having sex, but that’s definitely not true. The average age when people have sex for the first time is around 17. ',\n",
        "' Does it hurt to have sex for the first time? ',' The first time someone puts fingers or a penis in someones vagina, it may hurt (that is the hymen stretching open). Anal sex can hurt the first time (and every time) if you are not relaxed or using enough lube. Sex wont usually hurt someones penis. ',\n",
        "' Do you look different after you start having sex? ',' Don not worry, your appearance will not change after you start having sex. Nobody can tell whether you’ve had sex by looking at you. ',\n",
        "' What is an orgasm? ',' An orgasm is a release of sexual tension. You have muscle spasms in your genitals that feel really good, and your body releases hormones that make you feel happy and relaxed afterwards. Orgasms are sometimes called “cumming.” ',\n",
        "' What does it mean if my period is late? ',' Lots of things can make your period late: stress, illness, what you eat, weight gain or loss, and changes in your hormones. If your period doesn’t come at all, it can be a sign of pregnancy. If you had penis-in-vagina sex recently and missed your period, take a pregnancy test. ',\n",
        "' What does it mean if my period lasts longer than normal? ',' The average period generally lasts 3-7 days, and can change from month to month. It can be affected by things like birth control and stress. If you’re stressed about the length of your period, talk to a nurse or doctor, like the ones at your local Planned Parenthood. ',\n",
        "' How do I know if I’m ready to have sex? ',' That’s a big decision to make, so it can help to talk it over with a non-robot person you trust. If you feel ready, make sure you think about safer sex to prevent STDs and birth control if you don’t want to get pregnant. ',\n",
        "' How often should I have sex? ',' Sex is super personal and different for everyone. Some have sex regularly — a few times a week, every day, or more. Others have sex every once in a while, and some don’t do it at all. It’s up to you and your partner to decide what works best for you. ',\n",
        "' How do I deal with someone pressuring me to have sex? ',' Pressuring someone into sex is wrong. If it’s happening with someone you’re dating or hooking up with, that can be a sign of an unhealthy relationship. If someone you go to school with or work with is bugging you about sex, talk with a (non-robot) adult you trust about it. ',\n",
        "' How long does a UTI last for? ',' UTIs can be easily cured with antibiotics, and most people feel better within a day or two of taking them. UTIs are generally easy to treat, but if left untreated, they can spread and cause *bigger* problems like kidney damage ',\n",
        "' How do you have sex without getting pregnant? ',' If you want to avoid pregnancy during sex, you can use birth control — something that stops sperm from meeting an egg. There are many types of birth control. You can get the most pregnancy protection by using condoms + birth control together. Bonus: condoms help prevent STDs too! ',\n",
        "' What does it mean if my vaginal discharge is a different color? ',' Vaginal discharge is totally normal, and it’s usually clear, white, or slightly yellow. If you notice discharge that is green, grey, foamy, or has a strong fish-like smell, it may be a sign of infection. A nurse or doctor can help you figure out what’s going on. ',\n",
        "' How do you have sex? ',' “Sex” means different things to different people, so it depends on what that means to you. ',\n",
        "' Is it true that you bleed when you have sex for the first time? ',' Bleeding can happen when the hymen — the thin tissue at the opening of the vagina — gets stretched. There might be bleeding the first time a penis or fingers go into someone’s vagina, but it doesn’t happen to everybody. ',\n",
        "' Is my vagina normal? ',' There’s really no such thing as a “normal” vagina. Vaginas and vulvas are as unique as faces — they all have the same parts, but nobodys looks the same. There are many different colors, shapes, and sizes. And it’s normal to have some discharge (fluid) come out of your vagina. ',\n",
        "' Do most people shave their pubic hair? ',' Only some people shave, wax, trim, or remove their pubes some other way. It is totally up to you to decide what to do with yours ',\n",
        "' What and where is the clitoris? ',' The clitoris is part of the vulva and its only purpose is to feel awesome. Seriously, that is all it is there for! The outside part of the clitoris is located at the top of the vulva, right next to the urethra (the hole where pee comes out), but the inner part is much bigger. ',\n",
        "' Is my penis normal? ',' Unless something hurts or feels off, your penis and testicles are probably normal. Thick or thin, long or short, straight or with a curve, circumcised or not — everyone is unique. Testicles come in all different sizes, too, and many people have one that is bigger than the other. ',\n",
        "' How can I know when my period is coming? ',' Most people get their period every 21-35 days, but it’s normal for it to be unpredictable the first few years. Some people can guess it is on the way from PMS symptoms (like cramps, pimples, sore breasts, etc), or you can use a period tracking app (like Spot On!) to predict it. ',\n",
        "' What age do most people get their first period? ',' Most people get their first period at some point between ages 12 and 15, but it’s normal for it to come a couple years before or after that. ',\n",
        "' What’s the difference between circumcised and uncircumcised penises? ',' An uncircumcised penis has a foreskin — a soft tube of skin that covers the tip of the penis. A circumcised penis has had the foreskin removed. ',\n",
        "' How do I deal with really bad cramps? ',' Cramps are a bummer. You can calm them by taking pain medicine (like ibuprofen). Putting a heating pad where it hurts, taking a hot bath, exercising, or stretching can also help. Some birth control methods (like the pill) can make cramps less of a thing, too. ',\n",
        "' How do I use a tampon? ',' Tampons are like little cotton plugs that go in your vagina. Most tampons come with an applicator to help you put them in. You need to change tampons every 3 or 4 hours (or earlier if you think it’s leaking). ',\n",
        "' What is a normal period? ',' A typical period lasts from 2-7 days, and happens once a month-ish (about every 21-35 days). Bleeding can range from light to heavy, and the color can look bright red to dark brown. It is also totally normal for periods to be irregular for the first couple years (or even longer). ',\n",
        "' Where can I get the morning after pill? ',' You can get Plan B over-the-counter at most drug stores. You need a prescription for ella, another kind of emergency contraception. You can always talk to a nurse or doctor, like the ones at your local Planned Parenthood, to find out what is right for you. ',\n",
        "' Can you get pregnant without having sex? ',' It is possible for pregnancy to happen if semen (cum) gets in the vagina, even without having penis-in-vagina sex. The chances of getting pregnant from this are *much* lower than the chances of getting pregnant from penis-in-vagina sex. ',\n",
        "' What do I do if I have bumps or itching around my genitals? ',' There can be many causes of itching or bumps around your genitals, like ingrown hairs or an STD. A nurse or doctor can help you figure out what’s going on. ',\n",
        "' Can you get pregnant from dry humping? ',' You definitely can not get pregnant from dry humping. In order for pregnancy to happen, sperm needs to get into your vagina. If clothes or other barriers keep that from happening, pregnancy isn’t possible. ',\n",
        "' Can you get pregnant if you use a condom? ',' Not if you use the condom correctly and it doesn’t break or fall off. Condoms are great at preventing pregnancy. ',\n",
        "' Can you get pregnant the first time you have sex? ',' If you don’t use a condom or another birth control method, it’s totally possible to get pregnant the first time you have sex. ',\n",
        "' Can you get pregnant on your period? ',' It is possible to get pregnant during your period, just less common. You’re most likely to get pregnant just before or during ovulation (when an egg is released), which is *usually* about 2 weeks before your period. But unprotected vaginal sex at *any time* can cause pregnancy. ',\n",
        "' How do I deal with someone pressuring me to have sex? ',' Pressuring someone into sex is wrong. If it’s happening with someone you’re dating or hooking up with, that can be a sign of an unhealthy relationship. If someone you go to school with or work with is bugging you about sex, talk with a (non-robot) adult you trust about it. ',\n",
        "' How do I get over a breakup? ',' A broken heart can really hurt, but it will feel better with time (promise). It can help to lean on friends for support, and use outlets like exercise, music, writing, or art to help you work through your feelings. And try to remember that you’re amazing, no matter what. ',\n",
        "' What do I do if I have a crush on someone? ',' Having a crush can be fun and frustrating. Talking to them is the only way to know for sure if they like you back. If it feels like you’re vibing, you could ask if they want to hang out or tell them how you feel. But if they’re not into it, it’s important to respect their answer. ',\n",
        "' How do I get over a crush? ',' A broken heart can really hurt, but it will feel better with time (promise). It can help to lean on friends for support, and use outlets like exercise, music, writing, or art to help you work through your feelings. And try to remember that you’re amazing, no matter what. ',\n",
        "' What does a healthy relationship look like? ',' When a relationship is healthy, you feel good about yourselves and each other most of the time. You both feel like you have respect, kindness, trust, honesty, equality, and good communication. And you also give each other space to have your own lives outside the relationship. ',\n",
        "' Is it cheating to masturbate if I’m in a relationship? ',' Cheating = different things to everyone. But it’s normal and common to masturbate when you’re in a relationship. It DOESN’T mean you’re not into your partner, or that they’re not good enough. (Plus, it’s kinda hard to cheat on someone with...yourself.) ',\n",
        "' How can I resolve a relationship problem without arguing? ',' Relationship problems can be really tough to navigate, especially for a bot. But there are lots of resources out there that can help. ',\n",
        "' How do I know if I’m in abusive relationship? ',' If you feel like you’re being treated badly, you probably are. Abuse often starts slowly and gets worse over time. If your partner is disrespectful, controlling, threatening, violent, or makes you feel bad about yourself, get help. ',\n",
        "' What do I do if I’m being bullied? ',' Being bullied sucks. It can make you feel powerless, but there are things you can do. Telling an adult you trust is the best place to start. You might be afraid that it could make things worse, but they can only help if they know what’s happening. ',\n",
        "' What is consent? ',' Consent means that whether you’re kissing, holding hands, or having sex, both people are really, truly into what’s going on, and no one is being guilted or pressured into anything. Talking about consent is important every time — no matter the person or situation. ',\n",
        "' How do I come out? ',' There’s no “right” way to come out — it should just feel right to you. You can talk in-person, or write a letter or text if it feels more comfortable. If you think they’ll react negatively, plan to get some support after. And if it doesn’t feel safe, you might want to wait. ',\n",
        "' How do I know if I’m bisexual? ',' The only way to know is by how you feel. Being bisexual means feeling attracted to people of all genders or more than one gender. If you’re not sure what your sexual orientation is, that’s totally normal. Sometimes it takes a while to figure it out. ',\n",
        "' How do I know if I’m gay? ',' The only way to know is by how you feel. Being gay means feeling mostly attracted to people who are the same gender as you. If you’re not sure what your sexual orientation is, that’s totally normal. Sometimes it takes a while to figure it out. ',\n",
        "' If I think about someone from the same sex when I masturbate, does that mean I’m gay? ',' What you think or fantasize about when you masturbate doesn’t necessarily have anything to do with whether you identify as gay, straight, or bisexual. People enjoy all kinds of different fantasies — sometimes it relates to their sexual orientation, and sometimes it doesn’t. ',\n",
        "' How do I know if I’m asexual? ',' The only way to know is by how you feel. Being asexual means not feeling sexually attracted to other people. If you’re not sure, that’s totally normal. Sometimes it takes a while to figure it out. ',\n",
        "' Should I come out? ',' It’s totally up to you to decide if you should come out, to whom, and when. If you have people in your life who you know will love and accept you for who you are, you might tell them first. If coming out doesn’t feel safe, you can always wait until it does. ',\n",
        "' What should I do if a friend comes out to me? ',' If your friend comes out to you, that means they trust you a lot. It can be difficult to come out. Thank them, believe them, and support them. Most importantly, don’t tell anyone else unless your friend says it’s OK. ',\n",
        "' How do I ask someone about their preferred pronouns? ',' You might not have to ask — the other person may tell you directly or mention it at some point in the conversation. But it’s fine to simply ask, “What are your pronouns?” in a polite and respectful way. And you can always share your own pronouns first to start the conversation. ',\n",
        "' What does it mean to be transgender? ',' Transgender means identifying as a gender that isn’t the same as the sex you were assigned at birth. There are lots of ways transgender people identify their gender (gender identity) and present themselves on the outside (gender expression). ',\n",
        "' What will happen to me if I masturbate too much? ',' Masturbating a lot won’t hurt you or cause serious health problems. It’s only a problem if it gets in the way of your daily activities — like school or your social life. If you’re worried, you can talk with an adult you trust. But odds are you’re not masturbating too much. ',\n",
        "' Will masturbation make me have problems during sex? ',' Masturbating doesn’t have any negative effect on sex. It can actually make sex better because it helps you learn about what feels good and turns you on. (If you recently had an orgasm, it might be harder for you to have another one again right away — but that’s temporary). ',\n",
        "' Is it normal to masturbate? ',' Here is the thing: masturbation is really private, and people often don’t talk about it publicly, so it may seem like nobody does it. But the truth is almost everyone has masturbated at some point in their life, and lots of people do it regularly ',\n",
        "' Can I get pregnant from masturbating? ',' No worries, masturbation doesn’t cause pregnancy (whew!). The only way pregnancy can happen is if semen (cum) from a penis gets on a vulva or into a vagina. ',\n",
        "' Can you masturbate on your period? ',' It’s totally safe and normal to masturbate while you’re having your period. In fact, some people find that masturbation can help relieve period cramps. Orgasms release feel-good chemicals in your brain called endorphins — they’re a natural pain killer and mood lifter. ',\n",
        "' Does masturbation have side effects? ',' Masturbation is totally safe, healthy, and can actually be good for you. It’s pretty much the safest sex out there — there’s no risk of pregnancy or STDs. There are no bad side-effects of masturbation (unless you’re doing it so much it gets in the way of your everyday life). ',\n",
        "' What if I masturbate and I don’t have an orgasm? ',' It’s totally normal to masturbate without having an orgasm. People often touch themselves simply because it feels good and gives them comfort, no orgasm required. If you’re trying to have an orgasm and can’t, that’s common too — it’s easier for some people than others. ',\n",
        "' Are you still a virgin if you masturbate? ',' “Virginity” means different things to different people, so only you can make that call. But many people who consider themselves virgins do masturbate. Masturbation is different than sex with a partner — for example, there’s no risk of pregnancy or STDs with masturbation. ',\n",
        "' How often do most people masturbate? ',' Masturbation is super personal and different for everyone, and that goes for how often people masturbate, too. Many people masturbate regularly — a few times a week, every day, or more. Others masturbate every once in a while, and some don’t do it at all. ',\n",
        "' Can you get an STD from masturbating? ',' You can’t get an STD from masturbating alone. The only way you could possibly get an STD from masturbating is if you’re masturbating with another person who has an STD, and you share sex toys or touch your genitals after touching the other person’s. ',\n",
        "' How much is birth control? ',' The price for birth control varies depending on what kind you want, where you get it, and whether you have health insurance or qualify for government programs. It’s usually free if you have health insurance. Planned Parenthood can help you get free or low-cost birth control. ',\n",
        "' What’s the best method of birth control? ',' There are many different types of birth control. The most effective types are ones you can’t mess up — like the implant or IUD. You can get even more pregnancy protection by using condoms + birth control together. Bonus: condoms help prevent STDs too! ',\n",
        "' How old do I have to be to get birth control? ',' In general there’s no age requirement to get birth control, and most teens can get birth control without any problems. Your nearest Planned Parenthood health center can get you hooked up. ',\n",
        "' What if I miss a birth control pill? ',' What to do next depends on what kind of pill you use and where you are in your pack. I’ve got some handy resources — like a quiz to help you figure out what to do next, and a link to Spot On, a period and birth control tracker to help you stay on top of your birth control. ',\n",
        "' How much is birth control? ',' The price for birth control varies depending on what kind you want, where you get it, and whether you have health insurance or qualify for government programs. It’s usually free if you have health insurance. Planned Parenthood can help you get free or low-cost birth control. ',\n",
        "' How do I get birth control without my parents knowing? ',' Most of the time you don’t need a parent’s permission to get birth control, but some states and some doctors have parent notification rules. Talk with a doctor or nurse, like the staff at your nearest Planned Parenthood, to find out how to get started on birth control. ',\n",
        "' How do I get an STD test without insurance? ',' You don’t need insurance to get tested for STDs. There are some programs that can make testing free or cheap. And some clinics — including many Planned Parenthood health centers — give free or low-cost STD tests, depending on your income. ',\n",
        "' Can my doctor tell my parents if I have an STD? ',' You don’t need permission to get tested for STDs, but some states allow your doctor or nurse to notify a parent (although that doesn’t mean they will!). You can always ask your nurse or doctor about their privacy policies if you’re worried. ',\n",
        "' How much does it cost to get the IUD removed? ',' IUD removal can be free with health insurance. If you don’t have insurance, the price varies depending on where you go. You can call your doctor or local Planned Parenthood health center, to find out how much IUD removal costs. ',\n",
        "' How much does the morning after pill cost? ',' The morning-after pill costs between $15-$70, depending on the brand. You can get most kinds at any drugstore or pharmacy without a prescription, except one brand - ella. It doesn’t matter what brand you buy — all over-the-counter morning-after pills work the same. ',\n",
        "' How much is the abortion pill? ',' The cost of the abortion pill can be up to $1,000 but is often less depending on where you live, what your insurance covers, and funds that may be able to help in your area. Your local health center can talk you through your options. ',\n",
        "' Can birth control make my period better? ',' Hormonal birth control can help with many period issues, like making your period lighter or more regular and help with cramps. To find out what method might help the most with your period, talk with a nurse or doctor, like the ones at your local Planned Parenthood. '\n",
        "])\n",
        "\n",
        "# Get a response to the input text 'I would like to book a flight.'\n",
        "response = chatbot.get_response('Book me a flight.')\n",
        "\n",
        "print(response)"
      ],
      "execution_count": 37,
      "outputs": [
        {
          "output_type": "stream",
          "text": [
            "Requirement already satisfied: chatterbot in /usr/local/lib/python3.6/dist-packages (1.0.8)\n",
            "Requirement already satisfied: sqlalchemy<1.4,>=1.3 in /usr/local/lib/python3.6/dist-packages (from chatterbot) (1.3.19)\n",
            "Requirement already satisfied: pytz in /usr/local/lib/python3.6/dist-packages (from chatterbot) (2018.9)\n",
            "Requirement already satisfied: mathparse<0.2,>=0.1 in /usr/local/lib/python3.6/dist-packages (from chatterbot) (0.1.2)\n",
            "Requirement already satisfied: python-dateutil<2.9,>=2.8 in /usr/local/lib/python3.6/dist-packages (from chatterbot) (2.8.1)\n",
            "Requirement already satisfied: six>=1.5 in /usr/local/lib/python3.6/dist-packages (from python-dateutil<2.9,>=2.8->chatterbot) (1.15.0)\n",
            "List Trainer: [####################] 100%\n",
            "Can you get pregnant the first time you have sex?\n"
          ],
          "name": "stdout"
        }
      ]
    },
    {
      "cell_type": "code",
      "metadata": {
        "id": "JmLnN_MJtwvz",
        "outputId": "e0516585-fab4-469b-848f-ac81859e4c1b",
        "colab": {
          "base_uri": "https://localhost:8080/",
          "height": 55
        }
      },
      "source": [
        "response = chatbot.get_response('Is my vagina normal?')\n",
        "\n",
        "print(response)"
      ],
      "execution_count": 42,
      "outputs": [
        {
          "output_type": "stream",
          "text": [
            "There’s really no such thing as a “normal” vagina. Vaginas and vulvas are as unique as faces — they all have the same parts, but nobodys looks the same. There are many different colors, shapes, and sizes. And it’s normal to have some discharge (fluid) come out of your vagina.\n"
          ],
          "name": "stdout"
        }
      ]
    },
    {
      "cell_type": "code",
      "metadata": {
        "id": "q1L-4JEcuV9i"
      },
      "source": [
        "trainer.export_for_training('./my_export.json')\n"
      ],
      "execution_count": 41,
      "outputs": []
    },
    {
      "cell_type": "code",
      "metadata": {
        "id": "HvP_2pC_u0kN"
      },
      "source": [
        ""
      ],
      "execution_count": null,
      "outputs": []
    }
  ]
}